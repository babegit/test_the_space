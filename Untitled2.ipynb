{
 "cells": [
  {
   "cell_type": "code",
   "execution_count": null,
   "id": "7c8d69df-24ea-4339-beeb-264d897c2984",
   "metadata": {},
   "outputs": [],
   "source": [
    "import pandas as pd\n",
    "\n",
    "# Read the data into pandas dataframe\n",
    "spacex_df = pd.read_csv('Spacex_df.csv')\n",
    "max_payload = spacex_df['Payload_Mass(kg)'].max()\n",
    "min_payload = spacex_df['Payload_Mass(kg)'].min()\n",
    "\n",
    "# Create an app layout\n",
    "app.layout = html.Div([\n",
    "    html.Div([\n",
    "        html.Label(['SpaceX Launch Records Dashboard']),\n",
    "        dcc.Dropdown(\n",
    "            id='site-dropdown',\n",
    "            options=[\n",
    "                {'label': 'All Sites', 'value': 'All'},\n",
    "                {'label': 'CCAFS SLC 40', 'value': 'CCAFS SLC 40'},\n",
    "                {'label': 'VAFB SLC 4E', 'value': 'VAFB SLC 4E'},\n",
    "                {'label': 'KSC LC 39 A', 'value': 'KSC L39 A'},\n",
    "                {'label': 'CCAFS LC 40', 'value': 'CCAFS LC 40'},\n",
    "        ],\n",
    "        value='All',\n",
    "        searchable=True,\n",
    "        style={\"width\":\"50\"}\n",
    "    ),\n",
    "\n",
    "    ]),\n",
    "    html.Div([\n",
    "        dcc.Graph(id='success-pie-chart')\n",
    "    ]),\n",
    "])\n",
    "# TASK 2:\n",
    "# Add a callback function for `site-dropdown` as input, `success-pie-chart` as output\n",
    "@app.callback(\n",
    "              Output('success-pie-chart','figure'),\n",
    "              [Input('site_dropdown', 'value')]\n",
    ")\n",
    "def update_chart(site_dropdown):\n",
    "  if site_dropdown == 'All':\n",
    "    df2 = spacex_df.groupby(['Launch Site'])['Class'].sum().to_frame()\n",
    "    df2 = df2.reset_index()\n",
    "    piechart=px.pie(data_frame=df2, values='Class', names='site_dropdown', \n",
    "               render_mode=\"webgl\", hole=.3)\n",
    "    return (piechart)\n",
    "  else:\n",
    "    df2 = spacex_df[spacex_df['Launch Site']== site_dropdown]['Class'].value_counts().to_frame()\n",
    "    df2[\"class\"]=[\"Success\", \"Failure\"]\n",
    "    piechart=px.pie(data_frame=df2, values='Class', names=\"class\", title='Total Success Launches' + site_dropdown)\n",
    "    return (piechart)\n",
    "\n"
   ]
  },
  {
   "cell_type": "code",
   "execution_count": null,
   "id": "765b2ef5-9c6d-4d30-8cda-e4617cc4091a",
   "metadata": {},
   "outputs": [],
   "source": []
  }
 ],
 "metadata": {
  "kernelspec": {
   "display_name": "Python 3 (ipykernel)",
   "language": "python",
   "name": "python3"
  },
  "language_info": {
   "codemirror_mode": {
    "name": "ipython",
    "version": 3
   },
   "file_extension": ".py",
   "mimetype": "text/x-python",
   "name": "python",
   "nbconvert_exporter": "python",
   "pygments_lexer": "ipython3",
   "version": "3.9.13"
  }
 },
 "nbformat": 4,
 "nbformat_minor": 5
}
